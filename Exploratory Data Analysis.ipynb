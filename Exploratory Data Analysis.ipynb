##Top-selling products
top_products = df.groupby('Product')['Sales'].sum().sort_values(ascending=False).head(10)
print(top_products)
##Monthly sales trend
df['Month'] = df['Date'].dt.to_period('M')

monthly_sales = df.groupby('Month')['Sales'].sum()
monthly_sales.plot(kind='line', figsize=(10,5), title="Monthly Sales Trend")
