top_products = df.groupby('Product')['Sales'].sum().sort_values(ascending=False).head(10)
print(top_products)
