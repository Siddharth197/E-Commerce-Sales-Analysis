##Bar Chart: Top 10 Selling Products
import matplotlib.pyplot as plt
import seaborn as sns

plt.figure(figsize=(12,6))
sns.barplot(x=top_products.index, y=top_products.values, palette='viridis')
plt.xticks(rotation=45)
plt.title("Top 10 Selling Products")
plt.xlabel("Products")
plt.ylabel("Total Sales")
plt.show()

##Heatmap: Sales by City & Category
city_category_sales = df.pivot_table(index='City', columns='Category', values='Sales', aggfunc='sum')

plt.figure(figsize=(10,6))
sns.heatmap(city_category_sales, cmap="coolwarm", annot=True, fmt=".0f")
plt.title("Sales by City & Category")
plt.show()
