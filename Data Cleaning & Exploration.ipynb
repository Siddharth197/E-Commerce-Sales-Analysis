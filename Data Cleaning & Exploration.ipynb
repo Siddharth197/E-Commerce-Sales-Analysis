import pandas as pd

# Load dataset
df = pd.read_csv("ecommerce_sales.csv")

# Check missing values
print(df.isnull().sum())

# Drop duplicates
df = df.drop_duplicates()

# Convert 'Date' column to datetime
df['Date'] = pd.to_datetime(df['Date'])

# Fill missing values in 'Category' column
df['Category'].fillna("Unknown", inplace=True)

# Remove outliers from Sales
df = df[df['Sales'] < df['Sales'].quantile(0.99)]  # Removing top 1% extreme values

# Save cleaned dataset
df.to_csv("cleaned_sales_data.csv", index=False)
